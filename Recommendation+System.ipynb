{
  "nbformat": 4,
  "nbformat_minor": 0,
  "metadata": {
    "kernelspec": {
      "display_name": "Python 3",
      "language": "python",
      "name": "python3"
    },
    "language_info": {
      "codemirror_mode": {
        "name": "ipython",
        "version": 3
      },
      "file_extension": ".py",
      "mimetype": "text/x-python",
      "name": "python",
      "nbconvert_exporter": "python",
      "pygments_lexer": "ipython3",
      "version": "3.6.3"
    },
    "colab": {
      "name": "Recommendation+System.ipynb",
      "provenance": [],
      "collapsed_sections": [],
      "include_colab_link": true
    }
  },
  "cells": [
    {
      "cell_type": "markdown",
      "metadata": {
        "id": "view-in-github",
        "colab_type": "text"
      },
      "source": [
        "<a href=\"https://colab.research.google.com/github/varunkr24/Recommendation-System/blob/Python/Recommendation%2BSystem.ipynb\" target=\"_parent\"><img src=\"https://colab.research.google.com/assets/colab-badge.svg\" alt=\"Open In Colab\"/></a>"
      ]
    },
    {
      "cell_type": "markdown",
      "metadata": {
        "id": "5-OMYwvs2R11"
      },
      "source": [
        "# **Recommendation System for Mobile phone**"
      ]
    },
    {
      "cell_type": "markdown",
      "metadata": {
        "id": "Ce27wxck2p5C"
      },
      "source": [
        "**OBJECTIVE: Build a recommendation system using popularity based and collaborative filtering methods to recommend\n",
        "mobile phones to a user which are most popular and personalised respectively.**"
      ]
    },
    {
      "cell_type": "markdown",
      "metadata": {
        "id": "KSuB05dI3RdO"
      },
      "source": [
        "**DATA DESCRIPTION:**  \n",
        "• author : name of the person who gave the rating  \n",
        "• country : country the person who gave the rating belongs to  \n",
        "• data : date of the rating  \n",
        "• domain: website from which the rating was taken from  \n",
        "• extract: rating content  \n",
        "• language: language in which the rating was given  \n",
        "• product: name of the product/mobile phone for which the rating was given  \n",
        "• score: average rating for the phone  \n",
        "• score_max: highest rating given for the phone  \n",
        "• source: source from where the rating was taken  "
      ]
    },
    {
      "cell_type": "markdown",
      "metadata": {
        "id": "HRzTE0394RUX"
      },
      "source": [
        "**Import basic libraries**"
      ]
    },
    {
      "cell_type": "code",
      "metadata": {
        "collapsed": true,
        "id": "Fp-Mm-rewvI9"
      },
      "source": [
        "import numpy as np\n",
        "import pandas as pd\n",
        "import seaborn as sns\n",
        "import matplotlib.pyplot as plt"
      ],
      "execution_count": null,
      "outputs": []
    },
    {
      "cell_type": "code",
      "metadata": {
        "colab": {
          "base_uri": "https://localhost:8080/"
        },
        "id": "QTlszstPxl8y",
        "outputId": "9214ca04-094c-45eb-9cfe-d2b6b331db4c"
      },
      "source": [
        "from google.colab import drive\n",
        "drive.mount('/content/drive')"
      ],
      "execution_count": null,
      "outputs": [
        {
          "output_type": "stream",
          "text": [
            "Mounted at /content/drive\n"
          ],
          "name": "stdout"
        }
      ]
    },
    {
      "cell_type": "markdown",
      "metadata": {
        "id": "21EmtJDb5zf5"
      },
      "source": [
        "**Read Data**"
      ]
    },
    {
      "cell_type": "code",
      "metadata": {
        "id": "C1m0Im3-xNMa"
      },
      "source": [
        "path1 = \"/content/drive/MyDrive/AIML/Projects/Data Set/phone_user_review_file_1.csv\"\n",
        "path2 = \"/content/drive/MyDrive/AIML/Projects/Data Set/phone_user_review_file_2.csv\"\n",
        "path3 = \"/content/drive/MyDrive/AIML/Projects/Data Set/phone_user_review_file_3.csv\"\n",
        "path4 = \"/content/drive/MyDrive/AIML/Projects/Data Set/phone_user_review_file_4.csv\"\n",
        "path5 = \"/content/drive/MyDrive/AIML/Projects/Data Set/phone_user_review_file_5.csv\"\n",
        "path6 = \"/content/drive/MyDrive/AIML/Projects/Data Set/phone_user_review_file_6.csv\""
      ],
      "execution_count": null,
      "outputs": []
    },
    {
      "cell_type": "code",
      "metadata": {
        "collapsed": true,
        "id": "QdxpgwH5wvJN"
      },
      "source": [
        "df1 = pd.read_csv(path1,encoding='iso-8859-1')\n",
        "df2 = pd.read_csv(path2,encoding='iso-8859-1')\n",
        "df3 = pd.read_csv(path3,encoding='iso-8859-1')\n",
        "df4 = pd.read_csv(path4,encoding='iso-8859-1')\n",
        "df5 = pd.read_csv(path5,encoding='iso-8859-1')\n",
        "df6 = pd.read_csv(path6,encoding='iso-8859-1')"
      ],
      "execution_count": null,
      "outputs": []
    },
    {
      "cell_type": "markdown",
      "metadata": {
        "id": "RtN3yvMd55Vn"
      },
      "source": [
        "**Check head of the first dataset**"
      ]
    },
    {
      "cell_type": "code",
      "metadata": {
        "colab": {
          "base_uri": "https://localhost:8080/",
          "height": 179
        },
        "id": "zsx46kP7wvJQ",
        "outputId": "18b50c1e-74f9-4745-a973-52aa8f5231fd"
      },
      "source": [
        "df1.head(2)"
      ],
      "execution_count": null,
      "outputs": [
        {
          "output_type": "execute_result",
          "data": {
            "text/html": [
              "<div>\n",
              "<style scoped>\n",
              "    .dataframe tbody tr th:only-of-type {\n",
              "        vertical-align: middle;\n",
              "    }\n",
              "\n",
              "    .dataframe tbody tr th {\n",
              "        vertical-align: top;\n",
              "    }\n",
              "\n",
              "    .dataframe thead th {\n",
              "        text-align: right;\n",
              "    }\n",
              "</style>\n",
              "<table border=\"1\" class=\"dataframe\">\n",
              "  <thead>\n",
              "    <tr style=\"text-align: right;\">\n",
              "      <th></th>\n",
              "      <th>phone_url</th>\n",
              "      <th>date</th>\n",
              "      <th>lang</th>\n",
              "      <th>country</th>\n",
              "      <th>source</th>\n",
              "      <th>domain</th>\n",
              "      <th>score</th>\n",
              "      <th>score_max</th>\n",
              "      <th>extract</th>\n",
              "      <th>author</th>\n",
              "      <th>product</th>\n",
              "    </tr>\n",
              "  </thead>\n",
              "  <tbody>\n",
              "    <tr>\n",
              "      <th>0</th>\n",
              "      <td>/cellphones/samsung-galaxy-s8/</td>\n",
              "      <td>5/2/2017</td>\n",
              "      <td>en</td>\n",
              "      <td>us</td>\n",
              "      <td>Verizon Wireless</td>\n",
              "      <td>verizonwireless.com</td>\n",
              "      <td>10.0</td>\n",
              "      <td>10.0</td>\n",
              "      <td>As a diehard Samsung fan who has had every Sam...</td>\n",
              "      <td>CarolAnn35</td>\n",
              "      <td>Samsung Galaxy S8</td>\n",
              "    </tr>\n",
              "    <tr>\n",
              "      <th>1</th>\n",
              "      <td>/cellphones/samsung-galaxy-s8/</td>\n",
              "      <td>4/28/2017</td>\n",
              "      <td>en</td>\n",
              "      <td>us</td>\n",
              "      <td>Phone Arena</td>\n",
              "      <td>phonearena.com</td>\n",
              "      <td>10.0</td>\n",
              "      <td>10.0</td>\n",
              "      <td>Love the phone. the phone is sleek and smooth ...</td>\n",
              "      <td>james0923</td>\n",
              "      <td>Samsung Galaxy S8</td>\n",
              "    </tr>\n",
              "  </tbody>\n",
              "</table>\n",
              "</div>"
            ],
            "text/plain": [
              "                        phone_url       date  ...      author            product\n",
              "0  /cellphones/samsung-galaxy-s8/   5/2/2017  ...  CarolAnn35  Samsung Galaxy S8\n",
              "1  /cellphones/samsung-galaxy-s8/  4/28/2017  ...   james0923  Samsung Galaxy S8\n",
              "\n",
              "[2 rows x 11 columns]"
            ]
          },
          "metadata": {
            "tags": []
          },
          "execution_count": 6
        }
      ]
    },
    {
      "cell_type": "markdown",
      "metadata": {
        "id": "THfSxeHm6Lfp"
      },
      "source": [
        "*Due to large size, files are given in parts, all file have same attributes*"
      ]
    },
    {
      "cell_type": "code",
      "metadata": {
        "colab": {
          "base_uri": "https://localhost:8080/"
        },
        "id": "-s14yv15wvJT",
        "outputId": "cba6419c-e3c6-4ecc-a279-47bf885b7807"
      },
      "source": [
        "df1.shape"
      ],
      "execution_count": null,
      "outputs": [
        {
          "output_type": "execute_result",
          "data": {
            "text/plain": [
              "(374910, 11)"
            ]
          },
          "metadata": {
            "tags": []
          },
          "execution_count": 7
        }
      ]
    },
    {
      "cell_type": "markdown",
      "metadata": {
        "id": "vvYNCqol6qnc"
      },
      "source": [
        "**Compile data**"
      ]
    },
    {
      "cell_type": "code",
      "metadata": {
        "collapsed": true,
        "id": "nByZ4tjVwvJU"
      },
      "source": [
        "def df_append(a,b,c,d,e,f):\n",
        "    a = a.append(b, ignore_index = True)\n",
        "    a = a.append(c, ignore_index = True)\n",
        "    a = a.append(d, ignore_index = True)\n",
        "    a = a.append(e, ignore_index = True)\n",
        "    a = a.append(f, ignore_index = True)\n",
        "    return(a)"
      ],
      "execution_count": null,
      "outputs": []
    },
    {
      "cell_type": "code",
      "metadata": {
        "collapsed": true,
        "id": "HHY5O4fJwvJV"
      },
      "source": [
        "df_phone = df_append(df1,df2,df3,df4,df5,df6)"
      ],
      "execution_count": null,
      "outputs": []
    },
    {
      "cell_type": "code",
      "metadata": {
        "colab": {
          "base_uri": "https://localhost:8080/",
          "height": 179
        },
        "id": "JiVvAUNBwvJV",
        "outputId": "45ed8229-aedb-4a83-b299-3e015bd9858c"
      },
      "source": [
        "# Check first two rows of compiled data\n",
        "df_phone.head(2)"
      ],
      "execution_count": null,
      "outputs": [
        {
          "output_type": "execute_result",
          "data": {
            "text/html": [
              "<div>\n",
              "<style scoped>\n",
              "    .dataframe tbody tr th:only-of-type {\n",
              "        vertical-align: middle;\n",
              "    }\n",
              "\n",
              "    .dataframe tbody tr th {\n",
              "        vertical-align: top;\n",
              "    }\n",
              "\n",
              "    .dataframe thead th {\n",
              "        text-align: right;\n",
              "    }\n",
              "</style>\n",
              "<table border=\"1\" class=\"dataframe\">\n",
              "  <thead>\n",
              "    <tr style=\"text-align: right;\">\n",
              "      <th></th>\n",
              "      <th>phone_url</th>\n",
              "      <th>date</th>\n",
              "      <th>lang</th>\n",
              "      <th>country</th>\n",
              "      <th>source</th>\n",
              "      <th>domain</th>\n",
              "      <th>score</th>\n",
              "      <th>score_max</th>\n",
              "      <th>extract</th>\n",
              "      <th>author</th>\n",
              "      <th>product</th>\n",
              "    </tr>\n",
              "  </thead>\n",
              "  <tbody>\n",
              "    <tr>\n",
              "      <th>0</th>\n",
              "      <td>/cellphones/samsung-galaxy-s8/</td>\n",
              "      <td>5/2/2017</td>\n",
              "      <td>en</td>\n",
              "      <td>us</td>\n",
              "      <td>Verizon Wireless</td>\n",
              "      <td>verizonwireless.com</td>\n",
              "      <td>10.0</td>\n",
              "      <td>10.0</td>\n",
              "      <td>As a diehard Samsung fan who has had every Sam...</td>\n",
              "      <td>CarolAnn35</td>\n",
              "      <td>Samsung Galaxy S8</td>\n",
              "    </tr>\n",
              "    <tr>\n",
              "      <th>1</th>\n",
              "      <td>/cellphones/samsung-galaxy-s8/</td>\n",
              "      <td>4/28/2017</td>\n",
              "      <td>en</td>\n",
              "      <td>us</td>\n",
              "      <td>Phone Arena</td>\n",
              "      <td>phonearena.com</td>\n",
              "      <td>10.0</td>\n",
              "      <td>10.0</td>\n",
              "      <td>Love the phone. the phone is sleek and smooth ...</td>\n",
              "      <td>james0923</td>\n",
              "      <td>Samsung Galaxy S8</td>\n",
              "    </tr>\n",
              "  </tbody>\n",
              "</table>\n",
              "</div>"
            ],
            "text/plain": [
              "                        phone_url       date  ...      author            product\n",
              "0  /cellphones/samsung-galaxy-s8/   5/2/2017  ...  CarolAnn35  Samsung Galaxy S8\n",
              "1  /cellphones/samsung-galaxy-s8/  4/28/2017  ...   james0923  Samsung Galaxy S8\n",
              "\n",
              "[2 rows x 11 columns]"
            ]
          },
          "metadata": {
            "tags": []
          },
          "execution_count": 10
        }
      ]
    },
    {
      "cell_type": "code",
      "metadata": {
        "colab": {
          "base_uri": "https://localhost:8080/"
        },
        "id": "s3U2XKfhwvJW",
        "outputId": "31b9c70b-441f-437d-88fe-62c0886feeec"
      },
      "source": [
        "#Total records\n",
        "df_phone.shape"
      ],
      "execution_count": null,
      "outputs": [
        {
          "output_type": "execute_result",
          "data": {
            "text/plain": [
              "(1415133, 11)"
            ]
          },
          "metadata": {
            "tags": []
          },
          "execution_count": 11
        }
      ]
    },
    {
      "cell_type": "markdown",
      "metadata": {
        "id": "0te7f_yu7nXG"
      },
      "source": [
        "**Check all the records from each file is appended and none is skiped**"
      ]
    },
    {
      "cell_type": "code",
      "metadata": {
        "colab": {
          "base_uri": "https://localhost:8080/"
        },
        "id": "9gCzBaIhwvJX",
        "outputId": "e5ca28fc-c322-482e-b06e-321a680985d0"
      },
      "source": [
        "len(df_phone) == len(df1)+len(df2)+len(df3)+len(df4)+len(df5)+len(df6)"
      ],
      "execution_count": null,
      "outputs": [
        {
          "output_type": "execute_result",
          "data": {
            "text/plain": [
              "True"
            ]
          },
          "metadata": {
            "tags": []
          },
          "execution_count": 12
        }
      ]
    },
    {
      "cell_type": "markdown",
      "metadata": {
        "id": "H82rilIP8JKL"
      },
      "source": [
        "**Unique ratings given by user**"
      ]
    },
    {
      "cell_type": "code",
      "metadata": {
        "colab": {
          "base_uri": "https://localhost:8080/"
        },
        "id": "uOwEaMoKwvJY",
        "outputId": "d838da61-083c-4a79-dea0-f791f372e43b"
      },
      "source": [
        "df_phone.score.unique()"
      ],
      "execution_count": null,
      "outputs": [
        {
          "output_type": "execute_result",
          "data": {
            "text/plain": [
              "array([10. ,  6. ,  9.2,  4. ,  8. ,  2. ,  9.6,  7.2,  6.8,  9. ,  8.3,\n",
              "        8.8,  8.4,  5.3,  7. ,  6.4,  7.6,  nan,  5.2,  3.2,  4.4,  2.8,\n",
              "        5.6,  3.6,  4.8,  1. ,  5. ,  3. ,  2.4,  9.3,  8.5,  9.5,  6.5,\n",
              "        5.5,  9.8,  8.2,  8.6,  7.8,  9.4,  6.6,  6.2,  7.5,  9.9,  2.7,\n",
              "        8.7,  6.7,  3.3,  7.7,  7.3,  9.7,  6.3,  7.4,  5.7,  4.7,  4.3,\n",
              "        5.8,  4.2,  4.5,  2.2,  5.4,  7.9,  3.5,  4.6,  3.7,  2.5,  3.4,\n",
              "        7.1,  8.1,  1.2,  1.4,  3.8,  9.1,  2.6,  1.6,  1.7,  1.5,  1.8,\n",
              "        2.3,  6.1,  5.9,  1.3,  0.2,  0.4,  8.9,  6.9,  0.6,  4.9])"
            ]
          },
          "metadata": {
            "tags": []
          },
          "execution_count": 13
        }
      ]
    },
    {
      "cell_type": "markdown",
      "metadata": {
        "id": "o4_HjB728ePX"
      },
      "source": [
        "*Ratings are given in decimal format*  \n",
        "*NaN values present in the rating column*"
      ]
    },
    {
      "cell_type": "markdown",
      "metadata": {
        "id": "PJiBeO2L8ztH"
      },
      "source": [
        "**Unique of max rating given user**"
      ]
    },
    {
      "cell_type": "code",
      "metadata": {
        "colab": {
          "base_uri": "https://localhost:8080/"
        },
        "id": "9OuA9fLNwvJZ",
        "outputId": "2d78d44d-5bab-460e-fdc9-19fadc43acc3"
      },
      "source": [
        "df_phone.score_max.unique()"
      ],
      "execution_count": null,
      "outputs": [
        {
          "output_type": "execute_result",
          "data": {
            "text/plain": [
              "array([10., nan])"
            ]
          },
          "metadata": {
            "tags": []
          },
          "execution_count": 14
        }
      ]
    },
    {
      "cell_type": "markdown",
      "metadata": {
        "id": "IcUdrXU19Fuy"
      },
      "source": [
        "*Max rating for all users is 10*  \n",
        "*NaN present*"
      ]
    },
    {
      "cell_type": "markdown",
      "metadata": {
        "id": "wyZuhm5h9WMp"
      },
      "source": [
        "**Rounding off Rating**"
      ]
    },
    {
      "cell_type": "code",
      "metadata": {
        "collapsed": true,
        "id": "anCNTMvuwvJa"
      },
      "source": [
        "df_phone.score = round(df_phone.score)"
      ],
      "execution_count": null,
      "outputs": []
    },
    {
      "cell_type": "code",
      "metadata": {
        "colab": {
          "base_uri": "https://localhost:8080/"
        },
        "id": "rAUAsPLCwvJa",
        "outputId": "855d9405-ddd5-4f0f-f415-ccc69194e726"
      },
      "source": [
        "df_phone.score.unique()"
      ],
      "execution_count": null,
      "outputs": [
        {
          "output_type": "execute_result",
          "data": {
            "text/plain": [
              "array([10.,  6.,  9.,  4.,  8.,  2.,  7.,  5., nan,  3.,  1.,  0.])"
            ]
          },
          "metadata": {
            "tags": []
          },
          "execution_count": 16
        }
      ]
    },
    {
      "cell_type": "markdown",
      "metadata": {
        "id": "Yw19XlUJ98-Y"
      },
      "source": [
        "**Keeping only important attributes**"
      ]
    },
    {
      "cell_type": "code",
      "metadata": {
        "colab": {
          "base_uri": "https://localhost:8080/",
          "height": 172
        },
        "id": "gDwfhgoKwvJc",
        "outputId": "655cb733-f4e4-40e9-83b9-b5af6c0f7613"
      },
      "source": [
        "df_phone2 = df_phone.iloc[:,lambda df_phone:[6,8,9,10]]\n",
        "df_phone2.head(4)"
      ],
      "execution_count": null,
      "outputs": [
        {
          "output_type": "execute_result",
          "data": {
            "text/html": [
              "<div>\n",
              "<style scoped>\n",
              "    .dataframe tbody tr th:only-of-type {\n",
              "        vertical-align: middle;\n",
              "    }\n",
              "\n",
              "    .dataframe tbody tr th {\n",
              "        vertical-align: top;\n",
              "    }\n",
              "\n",
              "    .dataframe thead th {\n",
              "        text-align: right;\n",
              "    }\n",
              "</style>\n",
              "<table border=\"1\" class=\"dataframe\">\n",
              "  <thead>\n",
              "    <tr style=\"text-align: right;\">\n",
              "      <th></th>\n",
              "      <th>score</th>\n",
              "      <th>extract</th>\n",
              "      <th>author</th>\n",
              "      <th>product</th>\n",
              "    </tr>\n",
              "  </thead>\n",
              "  <tbody>\n",
              "    <tr>\n",
              "      <th>0</th>\n",
              "      <td>10.0</td>\n",
              "      <td>As a diehard Samsung fan who has had every Sam...</td>\n",
              "      <td>CarolAnn35</td>\n",
              "      <td>Samsung Galaxy S8</td>\n",
              "    </tr>\n",
              "    <tr>\n",
              "      <th>1</th>\n",
              "      <td>10.0</td>\n",
              "      <td>Love the phone. the phone is sleek and smooth ...</td>\n",
              "      <td>james0923</td>\n",
              "      <td>Samsung Galaxy S8</td>\n",
              "    </tr>\n",
              "    <tr>\n",
              "      <th>2</th>\n",
              "      <td>6.0</td>\n",
              "      <td>Adequate feel. Nice heft. Processor's still sl...</td>\n",
              "      <td>R. Craig</td>\n",
              "      <td>Samsung Galaxy S8 (64GB) G950U 5.8\" 4G LTE Unl...</td>\n",
              "    </tr>\n",
              "    <tr>\n",
              "      <th>3</th>\n",
              "      <td>9.0</td>\n",
              "      <td>Never disappointed. One of the reasons I've be...</td>\n",
              "      <td>Buster2020</td>\n",
              "      <td>Samsung Galaxy S8 64GB (AT&amp;T)</td>\n",
              "    </tr>\n",
              "  </tbody>\n",
              "</table>\n",
              "</div>"
            ],
            "text/plain": [
              "   score  ...                                            product\n",
              "0   10.0  ...                                  Samsung Galaxy S8\n",
              "1   10.0  ...                                  Samsung Galaxy S8\n",
              "2    6.0  ...  Samsung Galaxy S8 (64GB) G950U 5.8\" 4G LTE Unl...\n",
              "3    9.0  ...                      Samsung Galaxy S8 64GB (AT&T)\n",
              "\n",
              "[4 rows x 4 columns]"
            ]
          },
          "metadata": {
            "tags": []
          },
          "execution_count": 18
        }
      ]
    },
    {
      "cell_type": "markdown",
      "metadata": {
        "id": "t6qsuPie_rbY"
      },
      "source": [
        "**Check missing values**"
      ]
    },
    {
      "cell_type": "code",
      "metadata": {
        "colab": {
          "base_uri": "https://localhost:8080/"
        },
        "id": "eZ5hHlFjwvJd",
        "outputId": "15043bae-af6d-46a9-97f5-ee9cc85a2658"
      },
      "source": [
        "df_phone2.isnull().sum()"
      ],
      "execution_count": null,
      "outputs": [
        {
          "output_type": "execute_result",
          "data": {
            "text/plain": [
              "score      63489\n",
              "extract    19361\n",
              "author     63202\n",
              "product        1\n",
              "dtype: int64"
            ]
          },
          "metadata": {
            "tags": []
          },
          "execution_count": 19
        }
      ]
    },
    {
      "cell_type": "markdown",
      "metadata": {
        "id": "I7-3kmaF__EZ"
      },
      "source": [
        "**Droping records where user did not give rating or user is not known**"
      ]
    },
    {
      "cell_type": "code",
      "metadata": {
        "collapsed": true,
        "id": "u5N5tJoswvJd"
      },
      "source": [
        "df_phone3 = df_phone2.dropna()"
      ],
      "execution_count": null,
      "outputs": []
    },
    {
      "cell_type": "markdown",
      "metadata": {
        "id": "-da_DkfnAmuz"
      },
      "source": [
        "**Check dupicates, remove if any**"
      ]
    },
    {
      "cell_type": "code",
      "metadata": {
        "colab": {
          "base_uri": "https://localhost:8080/"
        },
        "id": "g7ci74MQwvJi",
        "outputId": "66672b6f-1fe4-4f25-d7cb-f94be58973d9"
      },
      "source": [
        "df_phone3.duplicated().any()"
      ],
      "execution_count": null,
      "outputs": [
        {
          "output_type": "execute_result",
          "data": {
            "text/plain": [
              "True"
            ]
          },
          "metadata": {
            "tags": []
          },
          "execution_count": 22
        }
      ]
    },
    {
      "cell_type": "markdown",
      "metadata": {
        "id": "LG56r3T9BBZc"
      },
      "source": [
        "*Duplicates found*"
      ]
    },
    {
      "cell_type": "code",
      "metadata": {
        "collapsed": true,
        "id": "rI8bbPflwvJj"
      },
      "source": [
        "df_phone4 = df_phone3.drop_duplicates()"
      ],
      "execution_count": null,
      "outputs": []
    },
    {
      "cell_type": "markdown",
      "metadata": {
        "id": "X02TGz7XBHHo"
      },
      "source": [
        "*Duplicates removed*"
      ]
    },
    {
      "cell_type": "code",
      "metadata": {
        "colab": {
          "base_uri": "https://localhost:8080/"
        },
        "id": "jk1mZMXswvJj",
        "outputId": "bc194ae3-ba0f-4f9a-d14a-2f85906a5a0e"
      },
      "source": [
        "len(df_phone3)-len(df_phone4)"
      ],
      "execution_count": null,
      "outputs": [
        {
          "output_type": "execute_result",
          "data": {
            "text/plain": [
              "16938"
            ]
          },
          "metadata": {
            "tags": []
          },
          "execution_count": 24
        }
      ]
    },
    {
      "cell_type": "markdown",
      "metadata": {
        "id": "dI2a9CcqBSCT"
      },
      "source": [
        "*16938 duplicate records removed*"
      ]
    },
    {
      "cell_type": "markdown",
      "metadata": {
        "id": "VOorx2u2BmoC"
      },
      "source": [
        "**Dimension of dataframe**"
      ]
    },
    {
      "cell_type": "code",
      "metadata": {
        "colab": {
          "base_uri": "https://localhost:8080/"
        },
        "id": "Fig5dEftwvJk",
        "outputId": "e2cee30f-6f3a-4b24-ce91-58e37b0060eb"
      },
      "source": [
        "df_phone4.shape"
      ],
      "execution_count": null,
      "outputs": [
        {
          "output_type": "execute_result",
          "data": {
            "text/plain": [
              "(1258979, 4)"
            ]
          },
          "metadata": {
            "tags": []
          },
          "execution_count": 25
        }
      ]
    },
    {
      "cell_type": "markdown",
      "metadata": {
        "id": "_VqFolgjBs_A"
      },
      "source": [
        "*Data has 1258979 records with four features*"
      ]
    },
    {
      "cell_type": "markdown",
      "metadata": {
        "id": "y0b-qcBJB5Vg"
      },
      "source": [
        "**Keeping 1000000 records through random sample**"
      ]
    },
    {
      "cell_type": "code",
      "metadata": {
        "colab": {
          "base_uri": "https://localhost:8080/"
        },
        "id": "4UQjryLMwvJk",
        "outputId": "7609cba6-ca96-479d-92df-d63f5a092e0d"
      },
      "source": [
        "df_phone5 = df_phone4.sample(n=1000000, random_state=612)\n",
        "df_phone5.shape"
      ],
      "execution_count": null,
      "outputs": [
        {
          "output_type": "execute_result",
          "data": {
            "text/plain": [
              "(1000000, 4)"
            ]
          },
          "metadata": {
            "tags": []
          },
          "execution_count": 26
        }
      ]
    },
    {
      "cell_type": "markdown",
      "metadata": {
        "id": "la6c43kbCIK3"
      },
      "source": [
        "**Rating Distribution**"
      ]
    },
    {
      "cell_type": "code",
      "metadata": {
        "scrolled": true,
        "colab": {
          "base_uri": "https://localhost:8080/",
          "height": 471
        },
        "id": "mPXeRzmxwvJl",
        "outputId": "425da34b-f1f4-4a96-80d4-1c5c404bf76e"
      },
      "source": [
        "sns.factorplot(\"score\", data=df_phone5,aspect=2,kind='count')\n",
        "plt.show();"
      ],
      "execution_count": null,
      "outputs": [
        {
          "output_type": "stream",
          "text": [
            "/usr/local/lib/python3.6/dist-packages/seaborn/categorical.py:3714: UserWarning: The `factorplot` function has been renamed to `catplot`. The original name will be removed in a future release. Please update your code. Note that the default `kind` in `factorplot` (`'point'`) has changed `'strip'` in `catplot`.\n",
            "  warnings.warn(msg)\n",
            "/usr/local/lib/python3.6/dist-packages/seaborn/_decorators.py:43: FutureWarning: Pass the following variable as a keyword arg: x. From version 0.12, the only valid positional argument will be `data`, and passing other arguments without an explicit keyword will result in an error or misinterpretation.\n",
            "  FutureWarning\n"
          ],
          "name": "stderr"
        },
        {
          "output_type": "display_data",
          "data": {
            "image/png": "[encoded data removed]",
            "text/plain": [
              "<Figure size 720x360 with 1 Axes>"
            ]
          },
          "metadata": {
            "tags": [],
            "needs_background": "light"
          }
        }
      ]
    },
    {
      "cell_type": "markdown",
      "metadata": {
        "id": "Am4D4HoNCfmA"
      },
      "source": [
        "*50% of the mobiles in the sample data are rated 10 by users*  \n",
        "*Very few mobiles in the sample data are rated 1, 3, 5 or 9*\n"
      ]
    },
    {
      "cell_type": "markdown",
      "metadata": {
        "id": "HCCQ0cG8EJFr"
      },
      "source": [
        "**Top 5 most rated mobile**"
      ]
    },
    {
      "cell_type": "code",
      "metadata": {
        "colab": {
          "base_uri": "https://localhost:8080/"
        },
        "id": "-AWr91iAwvJm",
        "outputId": "abed0835-b3f7-4f68-8e2b-014212a91e1a"
      },
      "source": [
        "#Most rated product\n",
        "df_phone5.groupby('product')['score'].count().sort_values(ascending = False).head()"
      ],
      "execution_count": null,
      "outputs": [
        {
          "output_type": "execute_result",
          "data": {
            "text/plain": [
              "product\n",
              "Lenovo Vibe K4 Note (White,16GB)       4135\n",
              "Lenovo Vibe K4 Note (Black, 16GB)      3488\n",
              "OnePlus 3 (Graphite, 64 GB)            3244\n",
              "OnePlus 3 (Soft Gold, 64 GB)           2802\n",
              "Lenovo Vibe K5 (Gold, VoLTE update)    1992\n",
              "Name: score, dtype: int64"
            ]
          },
          "metadata": {
            "tags": []
          },
          "execution_count": 28
        }
      ]
    },
    {
      "cell_type": "markdown",
      "metadata": {
        "id": "sVOOnJgMExKb"
      },
      "source": [
        "*Lenovo Vibe K4 Note (White,16GB) is the most rated mobile with 4135 users given rating to this mobile*"
      ]
    },
    {
      "cell_type": "markdown",
      "metadata": {
        "id": "cn5KhXr-FOTC"
      },
      "source": [
        "**Top 5 users with maximum number of reviews**"
      ]
    },
    {
      "cell_type": "code",
      "metadata": {
        "colab": {
          "base_uri": "https://localhost:8080/"
        },
        "id": "pSThslgiwvJm",
        "outputId": "bab58a5d-35ae-443c-c5db-d7d70b234d57"
      },
      "source": [
        "#Users with most number of reviews\n",
        "df_phone5.groupby('author')['extract'].count().sort_values(ascending=False).head()"
      ],
      "execution_count": null,
      "outputs": [
        {
          "output_type": "execute_result",
          "data": {
            "text/plain": [
              "author\n",
              "Amazon Customer    60857\n",
              "Cliente Amazon     15398\n",
              "e-bit               6575\n",
              "Client d'Amazon     6096\n",
              "Amazon Kunde        3759\n",
              "Name: extract, dtype: int64"
            ]
          },
          "metadata": {
            "tags": []
          },
          "execution_count": 29
        }
      ]
    },
    {
      "cell_type": "markdown",
      "metadata": {
        "id": "c81dgtyMFneV"
      },
      "source": [
        "*User called Amazon Customer has given maximim number of reviews*"
      ]
    },
    {
      "cell_type": "markdown",
      "metadata": {
        "id": "K32w9M8gMD2V"
      },
      "source": [
        "**Products having more than 50 ratings and users who have given more than 50 ratings**"
      ]
    },
    {
      "cell_type": "code",
      "metadata": {
        "collapsed": true,
        "id": "yzoU7KOMwvJn"
      },
      "source": [
        "df_phone6 = df_phone5.groupby(['product','author'])['score'].count().sort_values(ascending=False)"
      ],
      "execution_count": null,
      "outputs": []
    },
    {
      "cell_type": "code",
      "metadata": {
        "colab": {
          "base_uri": "https://localhost:8080/",
          "height": 234
        },
        "id": "CrOjYOA6wvJo",
        "outputId": "cc95b7e0-63d3-4dc6-9bc0-cf48921829f9"
      },
      "source": [
        "df_phone7 = pd.DataFrame(df_phone6)\n",
        "df_phone7.head()"
      ],
      "execution_count": null,
      "outputs": [
        {
          "output_type": "execute_result",
          "data": {
            "text/html": [
              "<div>\n",
              "<style scoped>\n",
              "    .dataframe tbody tr th:only-of-type {\n",
              "        vertical-align: middle;\n",
              "    }\n",
              "\n",
              "    .dataframe tbody tr th {\n",
              "        vertical-align: top;\n",
              "    }\n",
              "\n",
              "    .dataframe thead th {\n",
              "        text-align: right;\n",
              "    }\n",
              "</style>\n",
              "<table border=\"1\" class=\"dataframe\">\n",
              "  <thead>\n",
              "    <tr style=\"text-align: right;\">\n",
              "      <th></th>\n",
              "      <th></th>\n",
              "      <th>score</th>\n",
              "    </tr>\n",
              "    <tr>\n",
              "      <th>product</th>\n",
              "      <th>author</th>\n",
              "      <th></th>\n",
              "    </tr>\n",
              "  </thead>\n",
              "  <tbody>\n",
              "    <tr>\n",
              "      <th>Lenovo Vibe K4 Note (White,16GB)</th>\n",
              "      <th>Amazon Customer</th>\n",
              "      <td>2423</td>\n",
              "    </tr>\n",
              "    <tr>\n",
              "      <th>Lenovo Vibe K4 Note (Black, 16GB)</th>\n",
              "      <th>Amazon Customer</th>\n",
              "      <td>2019</td>\n",
              "    </tr>\n",
              "    <tr>\n",
              "      <th>OnePlus 3 (Graphite, 64 GB)</th>\n",
              "      <th>Amazon Customer</th>\n",
              "      <td>1438</td>\n",
              "    </tr>\n",
              "    <tr>\n",
              "      <th>OnePlus 3 (Soft Gold, 64 GB)</th>\n",
              "      <th>Amazon Customer</th>\n",
              "      <td>1315</td>\n",
              "    </tr>\n",
              "    <tr>\n",
              "      <th>Lenovo Vibe K5 (Gold, VoLTE update)</th>\n",
              "      <th>Amazon Customer</th>\n",
              "      <td>1222</td>\n",
              "    </tr>\n",
              "  </tbody>\n",
              "</table>\n",
              "</div>"
            ],
            "text/plain": [
              "                                                     score\n",
              "product                             author                \n",
              "Lenovo Vibe K4 Note (White,16GB)    Amazon Customer   2423\n",
              "Lenovo Vibe K4 Note (Black, 16GB)   Amazon Customer   2019\n",
              "OnePlus 3 (Graphite, 64 GB)         Amazon Customer   1438\n",
              "OnePlus 3 (Soft Gold, 64 GB)        Amazon Customer   1315\n",
              "Lenovo Vibe K5 (Gold, VoLTE update) Amazon Customer   1222"
            ]
          },
          "metadata": {
            "tags": []
          },
          "execution_count": 31
        }
      ]
    },
    {
      "cell_type": "markdown",
      "metadata": {
        "id": "FjuzCNVQQmZ2"
      },
      "source": [
        "**Now subset products having more than 50 ratings and users who have given more than 50 ratings** "
      ]
    },
    {
      "cell_type": "code",
      "metadata": {
        "colab": {
          "base_uri": "https://localhost:8080/"
        },
        "id": "cm3gxAZywvJp",
        "outputId": "c4f18674-3133-440a-b269-4667b0a33bc0"
      },
      "source": [
        "df_phone8 = df_phone7[df_phone7['score']>50]\n",
        "len(df_phone8)"
      ],
      "execution_count": null,
      "outputs": [
        {
          "output_type": "execute_result",
          "data": {
            "text/plain": [
              "235"
            ]
          },
          "metadata": {
            "tags": []
          },
          "execution_count": 32
        }
      ]
    },
    {
      "cell_type": "markdown",
      "metadata": {
        "id": "eTTWw244SgJZ"
      },
      "source": [
        "*There are 235 such records in 1000000 randomly selected data*"
      ]
    },
    {
      "cell_type": "markdown",
      "metadata": {
        "id": "OZBxN3R8TNE_"
      },
      "source": [
        "#Popularity based recommendation model"
      ]
    },
    {
      "cell_type": "markdown",
      "metadata": {
        "id": "Lsl-sr11TZ-_"
      },
      "source": [
        "**Select mobiles having highest mean ratings**"
      ]
    },
    {
      "cell_type": "code",
      "metadata": {
        "collapsed": true,
        "id": "gxI-OASkwvJp"
      },
      "source": [
        "popular_phone = pd.DataFrame(df_phone5[['product','score']].groupby('product')['score'].mean().sort_values(ascending=False))"
      ],
      "execution_count": null,
      "outputs": []
    },
    {
      "cell_type": "code",
      "metadata": {
        "colab": {
          "base_uri": "https://localhost:8080/",
          "height": 388
        },
        "id": "lItw1NAbwvJq",
        "outputId": "b68d7804-cec7-4ac4-93a4-3fe5641d3d11"
      },
      "source": [
        "popular_phone.head(10)"
      ],
      "execution_count": null,
      "outputs": [
        {
          "output_type": "execute_result",
          "data": {
            "text/html": [
              "<div>\n",
              "<style scoped>\n",
              "    .dataframe tbody tr th:only-of-type {\n",
              "        vertical-align: middle;\n",
              "    }\n",
              "\n",
              "    .dataframe tbody tr th {\n",
              "        vertical-align: top;\n",
              "    }\n",
              "\n",
              "    .dataframe thead th {\n",
              "        text-align: right;\n",
              "    }\n",
              "</style>\n",
              "<table border=\"1\" class=\"dataframe\">\n",
              "  <thead>\n",
              "    <tr style=\"text-align: right;\">\n",
              "      <th></th>\n",
              "      <th>score</th>\n",
              "    </tr>\n",
              "    <tr>\n",
              "      <th>product</th>\n",
              "      <th></th>\n",
              "    </tr>\n",
              "  </thead>\n",
              "  <tbody>\n",
              "    <tr>\n",
              "      <th>æ©æç½æ C168i</th>\n",
              "      <td>10.0</td>\n",
              "    </tr>\n",
              "    <tr>\n",
              "      <th>Nokia Samsung G600 Black On T-Mobile PAYG Mobile Phone</th>\n",
              "      <td>10.0</td>\n",
              "    </tr>\n",
              "    <tr>\n",
              "      <th>Nokia Touch and Type Dark Metal 3G Unlocked GSM Touch Screen Phone with 5MP Camera / Wi-Fi (X3-02)</th>\n",
              "      <td>10.0</td>\n",
              "    </tr>\n",
              "    <tr>\n",
              "      <th>Nokia Sony Ericsson W580i Pink On T-Mobile PAYG Mobile Phone</th>\n",
              "      <td>10.0</td>\n",
              "    </tr>\n",
              "    <tr>\n",
              "      <th>Nokia Sony Ericsson K770i Truffle Mobile Phone on Vodafone PAYG</th>\n",
              "      <td>10.0</td>\n",
              "    </tr>\n",
              "    <tr>\n",
              "      <th>Nokia Sony Ericsson K770i Pink On Vodafone PAYG Mobile Phone</th>\n",
              "      <td>10.0</td>\n",
              "    </tr>\n",
              "    <tr>\n",
              "      <th>Nokia Smartphone Nokia Lumia 830 Desbloqueado Windows 8.1 Tela 5 MemÃ³ria Interna 16GB Wi-Fi CÃ¢mera 10MP GPS Preto</th>\n",
              "      <td>10.0</td>\n",
              "    </tr>\n",
              "    <tr>\n",
              "      <th>Nokia Smartphone Nokia Lumia 635, 4G, schermo 4,5\", 8 gb, Micro-SIM singola, SO Windows Phone 8.1, per tutti gli operatori</th>\n",
              "      <td>10.0</td>\n",
              "    </tr>\n",
              "    <tr>\n",
              "      <th>Nokia Smartphone Nokia Lumia 520 Desbloqueado Oi Preto Windows Phone 8 CÃ¢mera 5MP 3G Wi-Fi MemÃ³ria Interna 8G GPS</th>\n",
              "      <td>10.0</td>\n",
              "    </tr>\n",
              "    <tr>\n",
              "      <th>Nokia Smartphone Nokia Lumia 1520 Desbloqueado Preto Windows Phone CÃ¢mera 20MP 4G Wi-Fi 32GB</th>\n",
              "      <td>10.0</td>\n",
              "    </tr>\n",
              "  </tbody>\n",
              "</table>\n",
              "</div>"
            ],
            "text/plain": [
              "                                                    score\n",
              "product                                                  \n",
              "æ©æç½æ C168i                                   10.0\n",
              "Nokia Samsung G600 Black On T-Mobile PAYG Mobil...   10.0\n",
              "Nokia Touch and Type Dark Metal 3G Unlocked GSM...   10.0\n",
              "Nokia Sony Ericsson W580i Pink On T-Mobile PAYG...   10.0\n",
              "Nokia Sony Ericsson K770i Truffle Mobile Phone ...   10.0\n",
              "Nokia Sony Ericsson K770i Pink On Vodafone PAYG...   10.0\n",
              "Nokia Smartphone Nokia Lumia 830 Desbloqueado W...   10.0\n",
              "Nokia Smartphone Nokia Lumia 635, 4G, schermo 4...   10.0\n",
              "Nokia Smartphone Nokia Lumia 520 Desbloqueado O...   10.0\n",
              "Nokia Smartphone Nokia Lumia 1520 Desbloqueado ...   10.0"
            ]
          },
          "metadata": {
            "tags": []
          },
          "execution_count": 34
        }
      ]
    },
    {
      "cell_type": "markdown",
      "metadata": {
        "id": "snFyiQ9PT04a"
      },
      "source": [
        "*These are mobiles with highest rating*  \n",
        "*To make it more meaningful to the user, one can add number of users who can given rating*"
      ]
    },
    {
      "cell_type": "markdown",
      "metadata": {
        "id": "b1ICp5rKWWZI"
      },
      "source": [
        "**Popular mobiles with user counts** "
      ]
    },
    {
      "cell_type": "code",
      "metadata": {
        "collapsed": true,
        "id": "ujrgVaatwvJq"
      },
      "source": [
        "popular_phone['rating_count'] = pd.DataFrame(df_phone5.groupby('product')['score'].count())"
      ],
      "execution_count": null,
      "outputs": []
    },
    {
      "cell_type": "code",
      "metadata": {
        "colab": {
          "base_uri": "https://localhost:8080/",
          "height": 234
        },
        "id": "XNRvl1xpwvJr",
        "outputId": "418b5af5-202e-4d1a-c0f9-9cd9663465dc"
      },
      "source": [
        "popular_phone.sort_values(by=['score', 'rating_count'], ascending=False).head()"
      ],
      "execution_count": null,
      "outputs": [
        {
          "output_type": "execute_result",
          "data": {
            "text/html": [
              "<div>\n",
              "<style scoped>\n",
              "    .dataframe tbody tr th:only-of-type {\n",
              "        vertical-align: middle;\n",
              "    }\n",
              "\n",
              "    .dataframe tbody tr th {\n",
              "        vertical-align: top;\n",
              "    }\n",
              "\n",
              "    .dataframe thead th {\n",
              "        text-align: right;\n",
              "    }\n",
              "</style>\n",
              "<table border=\"1\" class=\"dataframe\">\n",
              "  <thead>\n",
              "    <tr style=\"text-align: right;\">\n",
              "      <th></th>\n",
              "      <th>score</th>\n",
              "      <th>rating_count</th>\n",
              "    </tr>\n",
              "    <tr>\n",
              "      <th>product</th>\n",
              "      <th></th>\n",
              "      <th></th>\n",
              "    </tr>\n",
              "  </thead>\n",
              "  <tbody>\n",
              "    <tr>\n",
              "      <th>Samsung Galaxy Note5</th>\n",
              "      <td>10.0</td>\n",
              "      <td>161</td>\n",
              "    </tr>\n",
              "    <tr>\n",
              "      <th>Motorola Smartphone Motorola Moto X Desbloqueado Preto Android 4.2.2 CÃ¢mera 10MP e Frontal 2MP MemÃ³ria Interna de 16GB GSM</th>\n",
              "      <td>10.0</td>\n",
              "      <td>151</td>\n",
              "    </tr>\n",
              "    <tr>\n",
              "      <th>Samsung Smartphone Dual Chip Samsung Galaxy SIII Duos Desbloqueado Claro Azul Android 4.1 3G/Wi-Fi CÃ¢mera 5MP</th>\n",
              "      <td>10.0</td>\n",
              "      <td>140</td>\n",
              "    </tr>\n",
              "    <tr>\n",
              "      <th>Motorola Smartphone Motorola Moto G Dual Chip Desbloqueado TIM Android 4.3 Tela 4.5 8GB 3G Wi-Fi CÃ¢mera 5MP - Preto</th>\n",
              "      <td>10.0</td>\n",
              "      <td>134</td>\n",
              "    </tr>\n",
              "    <tr>\n",
              "      <th>Nokia Smartphone Nokia Lumia 520 Desbloqueado Oi Preto Windows Phone 8 CÃ¢mera 5MP 3G Wi-Fi MemÃ³ria Interna 8G GPS</th>\n",
              "      <td>10.0</td>\n",
              "      <td>132</td>\n",
              "    </tr>\n",
              "  </tbody>\n",
              "</table>\n",
              "</div>"
            ],
            "text/plain": [
              "                                                    score  rating_count\n",
              "product                                                                \n",
              "Samsung Galaxy Note5                                 10.0           161\n",
              "Motorola Smartphone Motorola Moto X Desbloquead...   10.0           151\n",
              "Samsung Smartphone Dual Chip Samsung Galaxy SII...   10.0           140\n",
              "Motorola Smartphone Motorola Moto G Dual Chip D...   10.0           134\n",
              "Nokia Smartphone Nokia Lumia 520 Desbloqueado O...   10.0           132"
            ]
          },
          "metadata": {
            "tags": []
          },
          "execution_count": 36
        }
      ]
    },
    {
      "cell_type": "markdown",
      "metadata": {
        "collapsed": true,
        "id": "ERNteDwEwvJr"
      },
      "source": [
        "# Collaborative filtering Based Recommedation Model  \n",
        "1. Collaborative filtering Based Recommendation Model using SVD  \n",
        "2. Collaborative filtering Based Recommendation Model using KNNwithMeans  \n",
        "   2.1 User Based  \n",
        "   2.2 Item Based"
      ]
    },
    {
      "cell_type": "markdown",
      "metadata": {
        "id": "drBHJpWZYBxJ"
      },
      "source": [
        "**Let's first subset data where a user has rated/reviewed 500 or above times.**  \n",
        "**This will ensure ratings to be more credible**"
      ]
    },
    {
      "cell_type": "code",
      "metadata": {
        "collapsed": true,
        "id": "d_1BHW0fwvJs"
      },
      "source": [
        "count = pd.value_counts(df_phone5['author'])"
      ],
      "execution_count": null,
      "outputs": []
    },
    {
      "cell_type": "code",
      "metadata": {
        "collapsed": true,
        "id": "yCyob_C6wvJs"
      },
      "source": [
        "ratings = df_phone5[df_phone5['author'].isin(count[count >= 500].index)]"
      ],
      "execution_count": null,
      "outputs": []
    },
    {
      "cell_type": "code",
      "metadata": {
        "colab": {
          "base_uri": "https://localhost:8080/"
        },
        "id": "G0Uz1S7-7MKC",
        "outputId": "ca7098bc-8773-4c78-881a-9b34cd33f55b"
      },
      "source": [
        "ratings.shape"
      ],
      "execution_count": null,
      "outputs": [
        {
          "output_type": "execute_result",
          "data": {
            "text/plain": [
              "(107458, 4)"
            ]
          },
          "metadata": {
            "tags": []
          },
          "execution_count": 39
        }
      ]
    },
    {
      "cell_type": "markdown",
      "metadata": {
        "id": "uiEsOxM2ktsm"
      },
      "source": [
        "*107458 records are found where a user has rated/reviewed 500 or above times*"
      ]
    },
    {
      "cell_type": "markdown",
      "metadata": {
        "id": "9IT8kf8ClODY"
      },
      "source": [
        "**Install Surpise library**"
      ]
    },
    {
      "cell_type": "code",
      "metadata": {
        "colab": {
          "base_uri": "https://localhost:8080/"
        },
        "id": "hwdaluZ47YTr",
        "outputId": "ca5d5119-e9d8-4606-c466-a5240bdc3b96"
      },
      "source": [
        "!pip install surprise"
      ],
      "execution_count": null,
      "outputs": [
        {
          "output_type": "stream",
          "text": [
            "Collecting surprise\n",
            "  Downloading https://files.pythonhosted.org/packages/61/de/e5cba8682201fcf9c3719a6fdda95693468ed061945493dea2dd37c5618b/surprise-0.1-py2.py3-none-any.whl\n",
            "Collecting scikit-surprise\n",
            "\u001b[?25l  Downloading https://files.pythonhosted.org/packages/97/37/5d334adaf5ddd65da99fc65f6507e0e4599d092ba048f4302fe8775619e8/scikit-surprise-1.1.1.tar.gz (11.8MB)\n",
            "\u001b[K     |████████████████████████████████| 11.8MB 5.3MB/s \n",
            "\u001b[?25hRequirement already satisfied: joblib>=0.11 in /usr/local/lib/python3.6/dist-packages (from scikit-surprise->surprise) (1.0.0)\n",
            "Requirement already satisfied: numpy>=1.11.2 in /usr/local/lib/python3.6/dist-packages (from scikit-surprise->surprise) (1.19.5)\n",
            "Requirement already satisfied: scipy>=1.0.0 in /usr/local/lib/python3.6/dist-packages (from scikit-surprise->surprise) (1.4.1)\n",
            "Requirement already satisfied: six>=1.10.0 in /usr/local/lib/python3.6/dist-packages (from scikit-surprise->surprise) (1.15.0)\n",
            "Building wheels for collected packages: scikit-surprise\n",
            "  Building wheel for scikit-surprise (setup.py) ... \u001b[?25l\u001b[?25hdone\n",
            "  Created wheel for scikit-surprise: filename=scikit_surprise-1.1.1-cp36-cp36m-linux_x86_64.whl size=1618269 sha256=9906afdc6b7f4e12e291351500886088e5f58f00dd10ac0651dd3b47203384b2\n",
            "  Stored in directory: /root/.cache/pip/wheels/78/9c/3d/41b419c9d2aff5b6e2b4c0fc8d25c538202834058f9ed110d0\n",
            "Successfully built scikit-surprise\n",
            "Installing collected packages: scikit-surprise, surprise\n",
            "Successfully installed scikit-surprise-1.1.1 surprise-0.1\n"
          ],
          "name": "stdout"
        }
      ]
    },
    {
      "cell_type": "code",
      "metadata": {
        "id": "3m1KRgOB9qDv"
      },
      "source": [
        "from surprise import Dataset,Reader\n",
        "from surprise.model_selection import cross_validate\n",
        "from surprise import NormalPredictor\n",
        "\n",
        "reader = Reader(rating_scale=(1, 10))"
      ],
      "execution_count": null,
      "outputs": []
    },
    {
      "cell_type": "markdown",
      "metadata": {
        "id": "ySwFdrT0lZzo"
      },
      "source": [
        "**Creating data with only required features i.e. user, mobile and rating**"
      ]
    },
    {
      "cell_type": "code",
      "metadata": {
        "id": "fn9PZZht9qUX"
      },
      "source": [
        "data = Dataset.load_from_df(ratings[['author', 'product', 'score']], reader)"
      ],
      "execution_count": null,
      "outputs": []
    },
    {
      "cell_type": "code",
      "metadata": {
        "colab": {
          "base_uri": "https://localhost:8080/",
          "height": 110
        },
        "id": "TWUjleTw9qga",
        "outputId": "cc54e436-b7b9-4527-bf29-cec691e15a8b"
      },
      "source": [
        "data.df.head(2)"
      ],
      "execution_count": null,
      "outputs": [
        {
          "output_type": "execute_result",
          "data": {
            "text/html": [
              "<div>\n",
              "<style scoped>\n",
              "    .dataframe tbody tr th:only-of-type {\n",
              "        vertical-align: middle;\n",
              "    }\n",
              "\n",
              "    .dataframe tbody tr th {\n",
              "        vertical-align: top;\n",
              "    }\n",
              "\n",
              "    .dataframe thead th {\n",
              "        text-align: right;\n",
              "    }\n",
              "</style>\n",
              "<table border=\"1\" class=\"dataframe\">\n",
              "  <thead>\n",
              "    <tr style=\"text-align: right;\">\n",
              "      <th></th>\n",
              "      <th>author</th>\n",
              "      <th>product</th>\n",
              "      <th>score</th>\n",
              "    </tr>\n",
              "  </thead>\n",
              "  <tbody>\n",
              "    <tr>\n",
              "      <th>502195</th>\n",
              "      <td>Amazon Customer</td>\n",
              "      <td>Motorola Moto G Turbo (Black, 16GB)</td>\n",
              "      <td>8.0</td>\n",
              "    </tr>\n",
              "    <tr>\n",
              "      <th>156430</th>\n",
              "      <td>Amazon Customer</td>\n",
              "      <td>Mi Xiaomi Mi Max (Gold, 32GB)</td>\n",
              "      <td>10.0</td>\n",
              "    </tr>\n",
              "  </tbody>\n",
              "</table>\n",
              "</div>"
            ],
            "text/plain": [
              "                 author                              product  score\n",
              "502195  Amazon Customer  Motorola Moto G Turbo (Black, 16GB)    8.0\n",
              "156430  Amazon Customer        Mi Xiaomi Mi Max (Gold, 32GB)   10.0"
            ]
          },
          "metadata": {
            "tags": []
          },
          "execution_count": 43
        }
      ]
    },
    {
      "cell_type": "markdown",
      "metadata": {
        "id": "Gmh0tcyipgp4"
      },
      "source": [
        "**Split data into train and test using surprise library**"
      ]
    },
    {
      "cell_type": "code",
      "metadata": {
        "id": "Mwg7t3yf9q0m"
      },
      "source": [
        "# Split data to train and test\n",
        "from surprise.model_selection import train_test_split\n",
        "trainset, testset = train_test_split(data, test_size=.25,random_state=123)"
      ],
      "execution_count": null,
      "outputs": []
    },
    {
      "cell_type": "code",
      "metadata": {
        "colab": {
          "base_uri": "https://localhost:8080/"
        },
        "id": "RYWiNjy99q_F",
        "outputId": "171ffd99-a92a-46e0-9a9e-c410ca09faaa"
      },
      "source": [
        "trainset.all_ratings()"
      ],
      "execution_count": null,
      "outputs": [
        {
          "output_type": "execute_result",
          "data": {
            "text/plain": [
              "<generator object Trainset.all_ratings at 0x7f69fcd76a40>"
            ]
          },
          "metadata": {
            "tags": []
          },
          "execution_count": 46
        }
      ]
    },
    {
      "cell_type": "code",
      "metadata": {
        "colab": {
          "base_uri": "https://localhost:8080/"
        },
        "id": "2QRXOE4d9rIP",
        "outputId": "0bc6cd53-be14-4c81-c5d7-8cdee2bf323b"
      },
      "source": [
        "# However the ids are the inner ids and not the raw ids\n",
        "# raw ids can be obatined as follows\n",
        "print(trainset.to_raw_uid(0))"
      ],
      "execution_count": null,
      "outputs": [
        {
          "output_type": "stream",
          "text": [
            "Cliente Amazon\n"
          ],
          "name": "stdout"
        }
      ]
    },
    {
      "cell_type": "markdown",
      "metadata": {
        "id": "4yLYj00kp21L"
      },
      "source": [
        "# 1. Collaborative filtering Based Recommendation Model using SVD"
      ]
    },
    {
      "cell_type": "code",
      "metadata": {
        "id": "NigJgd3L9rRm"
      },
      "source": [
        "from surprise import SVD, KNNWithMeans\n",
        "from surprise import accuracy"
      ],
      "execution_count": null,
      "outputs": []
    },
    {
      "cell_type": "code",
      "metadata": {
        "colab": {
          "base_uri": "https://localhost:8080/"
        },
        "id": "kMJCq74w9rbB",
        "outputId": "6c859e83-562c-403d-9bc6-c36d475b39d8"
      },
      "source": [
        "svd_model = SVD(n_factors=5,biased=False)\n",
        "svd_model.fit(trainset)"
      ],
      "execution_count": null,
      "outputs": [
        {
          "output_type": "execute_result",
          "data": {
            "text/plain": [
              "<surprise.prediction_algorithms.matrix_factorization.SVD at 0x7f69fa8d0e10>"
            ]
          },
          "metadata": {
            "tags": []
          },
          "execution_count": 65
        }
      ]
    },
    {
      "cell_type": "code",
      "metadata": {
        "colab": {
          "base_uri": "https://localhost:8080/"
        },
        "id": "dIcnq5_3MYNe",
        "outputId": "dc53a057-99d2-47c0-9f2f-2195258e1b81"
      },
      "source": [
        "testset[0]"
      ],
      "execution_count": null,
      "outputs": [
        {
          "output_type": "execute_result",
          "data": {
            "text/plain": [
              "('Amazon Customer',\n",
              " 'LG Electronics G3 UK SIM-Free Smartphone - Gold (Android, 5.5-inch, 16GB)',\n",
              " 10.0)"
            ]
          },
          "metadata": {
            "tags": []
          },
          "execution_count": 66
        }
      ]
    },
    {
      "cell_type": "code",
      "metadata": {
        "id": "NYMipPGOMeEn"
      },
      "source": [
        "test_pred_svd = svd_model.test(testset)"
      ],
      "execution_count": null,
      "outputs": []
    },
    {
      "cell_type": "code",
      "metadata": {
        "colab": {
          "base_uri": "https://localhost:8080/"
        },
        "id": "8paZsgokMeVL",
        "outputId": "1c05936d-c1f9-45fb-ae99-35db7696de01"
      },
      "source": [
        "# compute RMSE\n",
        "accuracy.rmse(test_pred_svd)"
      ],
      "execution_count": null,
      "outputs": [
        {
          "output_type": "stream",
          "text": [
            "RMSE: 3.0906\n"
          ],
          "name": "stdout"
        },
        {
          "output_type": "execute_result",
          "data": {
            "text/plain": [
              "3.09058686484794"
            ]
          },
          "metadata": {
            "tags": []
          },
          "execution_count": 74
        }
      ]
    },
    {
      "cell_type": "markdown",
      "metadata": {
        "id": "M6nKsdcKqexb"
      },
      "source": [
        "*RMSE score on test data is 3.09*"
      ]
    },
    {
      "cell_type": "markdown",
      "metadata": {
        "id": "wo5Ne77lqtMW"
      },
      "source": [
        "**Top 10 mobile recommedations to an user say Amazon Customer**"
      ]
    },
    {
      "cell_type": "code",
      "metadata": {
        "colab": {
          "base_uri": "https://localhost:8080/",
          "height": 357
        },
        "id": "bZo8qX4obNMT",
        "outputId": "45ebf798-e6ca-492b-9ca9-c929bdc3a91f"
      },
      "source": [
        "pred_svd= pd.DataFrame(test_pred_svd)\n",
        "pred_svd[pred_svd['uid'] == \"Amazon Customer\"][['iid', 'r_ui','est']].sort_values(by = 'r_ui',ascending = False).head(10)"
      ],
      "execution_count": null,
      "outputs": [
        {
          "output_type": "execute_result",
          "data": {
            "text/html": [
              "<div>\n",
              "<style scoped>\n",
              "    .dataframe tbody tr th:only-of-type {\n",
              "        vertical-align: middle;\n",
              "    }\n",
              "\n",
              "    .dataframe tbody tr th {\n",
              "        vertical-align: top;\n",
              "    }\n",
              "\n",
              "    .dataframe thead th {\n",
              "        text-align: right;\n",
              "    }\n",
              "</style>\n",
              "<table border=\"1\" class=\"dataframe\">\n",
              "  <thead>\n",
              "    <tr style=\"text-align: right;\">\n",
              "      <th></th>\n",
              "      <th>iid</th>\n",
              "      <th>r_ui</th>\n",
              "      <th>est</th>\n",
              "    </tr>\n",
              "  </thead>\n",
              "  <tbody>\n",
              "    <tr>\n",
              "      <th>0</th>\n",
              "      <td>LG Electronics G3 UK SIM-Free Smartphone - Gol...</td>\n",
              "      <td>10.0</td>\n",
              "      <td>9.734809</td>\n",
              "    </tr>\n",
              "    <tr>\n",
              "      <th>14365</th>\n",
              "      <td>Nokia Microsoft Lumia 640 Windows 8.1 Phone, 4...</td>\n",
              "      <td>10.0</td>\n",
              "      <td>7.092467</td>\n",
              "    </tr>\n",
              "    <tr>\n",
              "      <th>14339</th>\n",
              "      <td>Samsung Galaxy J7 SM-J700F (White) - Scheduled...</td>\n",
              "      <td>10.0</td>\n",
              "      <td>6.283063</td>\n",
              "    </tr>\n",
              "    <tr>\n",
              "      <th>14346</th>\n",
              "      <td>Asus Zenfone Max ZC550KL-6A076IN (Black, 3GB, ...</td>\n",
              "      <td>10.0</td>\n",
              "      <td>8.039235</td>\n",
              "    </tr>\n",
              "    <tr>\n",
              "      <th>14351</th>\n",
              "      <td>Asus Zenfone 2 Laser 5.5 ZE550KL-1B122IN (White)</td>\n",
              "      <td>10.0</td>\n",
              "      <td>6.330051</td>\n",
              "    </tr>\n",
              "    <tr>\n",
              "      <th>14360</th>\n",
              "      <td>Apple iPhone 6 16GB Factory Unlocked GSM 4G LT...</td>\n",
              "      <td>10.0</td>\n",
              "      <td>5.173482</td>\n",
              "    </tr>\n",
              "    <tr>\n",
              "      <th>14363</th>\n",
              "      <td>Gionee F103 (White, 3GB RAM, 16GB)</td>\n",
              "      <td>10.0</td>\n",
              "      <td>9.580310</td>\n",
              "    </tr>\n",
              "    <tr>\n",
              "      <th>14364</th>\n",
              "      <td>Samsung Galaxy S6 SM-G920F Factory Unlocked Ce...</td>\n",
              "      <td>10.0</td>\n",
              "      <td>7.544439</td>\n",
              "    </tr>\n",
              "    <tr>\n",
              "      <th>14367</th>\n",
              "      <td>Samsung Galaxy S III / SGH-i747 16GB GSM Unloc...</td>\n",
              "      <td>10.0</td>\n",
              "      <td>8.912549</td>\n",
              "    </tr>\n",
              "    <tr>\n",
              "      <th>14336</th>\n",
              "      <td>Samsung GALAXY S7 EDGE G935FD DUAL SIM INTERNA...</td>\n",
              "      <td>10.0</td>\n",
              "      <td>7.783533</td>\n",
              "    </tr>\n",
              "  </tbody>\n",
              "</table>\n",
              "</div>"
            ],
            "text/plain": [
              "                                                     iid  r_ui       est\n",
              "0      LG Electronics G3 UK SIM-Free Smartphone - Gol...  10.0  9.734809\n",
              "14365  Nokia Microsoft Lumia 640 Windows 8.1 Phone, 4...  10.0  7.092467\n",
              "14339  Samsung Galaxy J7 SM-J700F (White) - Scheduled...  10.0  6.283063\n",
              "14346  Asus Zenfone Max ZC550KL-6A076IN (Black, 3GB, ...  10.0  8.039235\n",
              "14351   Asus Zenfone 2 Laser 5.5 ZE550KL-1B122IN (White)  10.0  6.330051\n",
              "14360  Apple iPhone 6 16GB Factory Unlocked GSM 4G LT...  10.0  5.173482\n",
              "14363                 Gionee F103 (White, 3GB RAM, 16GB)  10.0  9.580310\n",
              "14364  Samsung Galaxy S6 SM-G920F Factory Unlocked Ce...  10.0  7.544439\n",
              "14367  Samsung Galaxy S III / SGH-i747 16GB GSM Unloc...  10.0  8.912549\n",
              "14336  Samsung GALAXY S7 EDGE G935FD DUAL SIM INTERNA...  10.0  7.783533"
            ]
          },
          "metadata": {
            "tags": []
          },
          "execution_count": 75
        }
      ]
    },
    {
      "cell_type": "markdown",
      "metadata": {
        "id": "nQ589IZ-rOIV"
      },
      "source": [
        "# 2. Collaborative filtering Based Recommendation Model using KNNWithMeans"
      ]
    },
    {
      "cell_type": "markdown",
      "metadata": {
        "id": "LJy6BfQqrpI6"
      },
      "source": [
        "**2.1 User Based**"
      ]
    },
    {
      "cell_type": "code",
      "metadata": {
        "colab": {
          "base_uri": "https://localhost:8080/"
        },
        "id": "QRbD5PtYMekH",
        "outputId": "bd2936a4-545f-477a-fffb-a8ed30382369"
      },
      "source": [
        "from surprise import KNNWithMeans\n",
        "from surprise import accuracy\n",
        "\n",
        "algo_u = KNNWithMeans(k=10, sim_options={ 'user_based': True})\n",
        "\n",
        "algo_u.fit(trainset)"
      ],
      "execution_count": null,
      "outputs": [
        {
          "output_type": "stream",
          "text": [
            "Computing the msd similarity matrix...\n",
            "Done computing similarity matrix.\n"
          ],
          "name": "stdout"
        },
        {
          "output_type": "execute_result",
          "data": {
            "text/plain": [
              "<surprise.prediction_algorithms.knns.KNNWithMeans at 0x7f69f0031518>"
            ]
          },
          "metadata": {
            "tags": []
          },
          "execution_count": 76
        }
      ]
    },
    {
      "cell_type": "code",
      "metadata": {
        "colab": {
          "base_uri": "https://localhost:8080/"
        },
        "id": "F560rNjBMeyE",
        "outputId": "d9206760-10e4-4491-9a06-9be78fcd822a"
      },
      "source": [
        "test_pred_u=algo_u.test(testset)\n",
        "print(accuracy.rmse(test_pred_u))"
      ],
      "execution_count": null,
      "outputs": [
        {
          "output_type": "stream",
          "text": [
            "RMSE: 3.0467\n",
            "3.046748278047784\n"
          ],
          "name": "stdout"
        }
      ]
    },
    {
      "cell_type": "markdown",
      "metadata": {
        "id": "d5mpWQqZs8-R"
      },
      "source": [
        "*RMSE score on test data is 3.04*"
      ]
    },
    {
      "cell_type": "code",
      "metadata": {
        "colab": {
          "base_uri": "https://localhost:8080/"
        },
        "id": "iB2nTygvMfAA",
        "outputId": "8f144ad7-7488-42ae-bf70-2b506b9f624a"
      },
      "source": [
        "uid = \"Amazon Customer\"  # raw user id (as in the ratings file). They are **strings**!\n",
        "iid = \"Mi Xiaomi Mi Max (Gold, 32GB)\"  # raw item id (as in the ratings file). They are **strings**!\n",
        "\n",
        "# get a prediction for specific users and items.\n",
        "pred_uc = algo_u.predict(uid, iid, r_ui=0.0, verbose=True)"
      ],
      "execution_count": null,
      "outputs": [
        {
          "output_type": "stream",
          "text": [
            "user: Amazon Customer item: Mi Xiaomi Mi Max (Gold, 32GB) r_ui = 0.00   est = 7.20   {'actual_k': 10, 'was_impossible': False}\n"
          ],
          "name": "stdout"
        }
      ]
    },
    {
      "cell_type": "markdown",
      "metadata": {
        "id": "qtDvUC2r_ali"
      },
      "source": [
        "**Top 10 user based recommendations of mobile to an user say Amazon Customer**"
      ]
    },
    {
      "cell_type": "code",
      "metadata": {
        "colab": {
          "base_uri": "https://localhost:8080/",
          "height": 357
        },
        "id": "ioZSIJWFY8zm",
        "outputId": "78b0aa5d-06dd-4fcb-afe1-169317a00f05"
      },
      "source": [
        "pred_uc = pd.DataFrame(test_pred_u)\n",
        "pred_uc[pred_uc['uid'] == \"Amazon Customer\"][['iid', 'r_ui','est']].sort_values(by = 'r_ui',ascending = False).head(10)"
      ],
      "execution_count": null,
      "outputs": [
        {
          "output_type": "execute_result",
          "data": {
            "text/html": [
              "<div>\n",
              "<style scoped>\n",
              "    .dataframe tbody tr th:only-of-type {\n",
              "        vertical-align: middle;\n",
              "    }\n",
              "\n",
              "    .dataframe tbody tr th {\n",
              "        vertical-align: top;\n",
              "    }\n",
              "\n",
              "    .dataframe thead th {\n",
              "        text-align: right;\n",
              "    }\n",
              "</style>\n",
              "<table border=\"1\" class=\"dataframe\">\n",
              "  <thead>\n",
              "    <tr style=\"text-align: right;\">\n",
              "      <th></th>\n",
              "      <th>iid</th>\n",
              "      <th>r_ui</th>\n",
              "      <th>est</th>\n",
              "    </tr>\n",
              "  </thead>\n",
              "  <tbody>\n",
              "    <tr>\n",
              "      <th>0</th>\n",
              "      <td>LG Electronics G3 UK SIM-Free Smartphone - Gol...</td>\n",
              "      <td>10.0</td>\n",
              "      <td>9.991597</td>\n",
              "    </tr>\n",
              "    <tr>\n",
              "      <th>14365</th>\n",
              "      <td>Nokia Microsoft Lumia 640 Windows 8.1 Phone, 4...</td>\n",
              "      <td>10.0</td>\n",
              "      <td>8.400000</td>\n",
              "    </tr>\n",
              "    <tr>\n",
              "      <th>14339</th>\n",
              "      <td>Samsung Galaxy J7 SM-J700F (White) - Scheduled...</td>\n",
              "      <td>10.0</td>\n",
              "      <td>5.600000</td>\n",
              "    </tr>\n",
              "    <tr>\n",
              "      <th>14346</th>\n",
              "      <td>Asus Zenfone Max ZC550KL-6A076IN (Black, 3GB, ...</td>\n",
              "      <td>10.0</td>\n",
              "      <td>7.200000</td>\n",
              "    </tr>\n",
              "    <tr>\n",
              "      <th>14351</th>\n",
              "      <td>Asus Zenfone 2 Laser 5.5 ZE550KL-1B122IN (White)</td>\n",
              "      <td>10.0</td>\n",
              "      <td>6.000000</td>\n",
              "    </tr>\n",
              "    <tr>\n",
              "      <th>14360</th>\n",
              "      <td>Apple iPhone 6 16GB Factory Unlocked GSM 4G LT...</td>\n",
              "      <td>10.0</td>\n",
              "      <td>6.400000</td>\n",
              "    </tr>\n",
              "    <tr>\n",
              "      <th>14363</th>\n",
              "      <td>Gionee F103 (White, 3GB RAM, 16GB)</td>\n",
              "      <td>10.0</td>\n",
              "      <td>10.000000</td>\n",
              "    </tr>\n",
              "    <tr>\n",
              "      <th>14364</th>\n",
              "      <td>Samsung Galaxy S6 SM-G920F Factory Unlocked Ce...</td>\n",
              "      <td>10.0</td>\n",
              "      <td>7.544439</td>\n",
              "    </tr>\n",
              "    <tr>\n",
              "      <th>14367</th>\n",
              "      <td>Samsung Galaxy S III / SGH-i747 16GB GSM Unloc...</td>\n",
              "      <td>10.0</td>\n",
              "      <td>8.666667</td>\n",
              "    </tr>\n",
              "    <tr>\n",
              "      <th>14336</th>\n",
              "      <td>Samsung GALAXY S7 EDGE G935FD DUAL SIM INTERNA...</td>\n",
              "      <td>10.0</td>\n",
              "      <td>7.000000</td>\n",
              "    </tr>\n",
              "  </tbody>\n",
              "</table>\n",
              "</div>"
            ],
            "text/plain": [
              "                                                     iid  r_ui        est\n",
              "0      LG Electronics G3 UK SIM-Free Smartphone - Gol...  10.0   9.991597\n",
              "14365  Nokia Microsoft Lumia 640 Windows 8.1 Phone, 4...  10.0   8.400000\n",
              "14339  Samsung Galaxy J7 SM-J700F (White) - Scheduled...  10.0   5.600000\n",
              "14346  Asus Zenfone Max ZC550KL-6A076IN (Black, 3GB, ...  10.0   7.200000\n",
              "14351   Asus Zenfone 2 Laser 5.5 ZE550KL-1B122IN (White)  10.0   6.000000\n",
              "14360  Apple iPhone 6 16GB Factory Unlocked GSM 4G LT...  10.0   6.400000\n",
              "14363                 Gionee F103 (White, 3GB RAM, 16GB)  10.0  10.000000\n",
              "14364  Samsung Galaxy S6 SM-G920F Factory Unlocked Ce...  10.0   7.544439\n",
              "14367  Samsung Galaxy S III / SGH-i747 16GB GSM Unloc...  10.0   8.666667\n",
              "14336  Samsung GALAXY S7 EDGE G935FD DUAL SIM INTERNA...  10.0   7.000000"
            ]
          },
          "metadata": {
            "tags": []
          },
          "execution_count": 79
        }
      ]
    },
    {
      "cell_type": "markdown",
      "metadata": {
        "id": "_hb8oKUKANaU"
      },
      "source": [
        "**2.2 Item Based**"
      ]
    },
    {
      "cell_type": "code",
      "metadata": {
        "colab": {
          "base_uri": "https://localhost:8080/"
        },
        "id": "3JoDCykbTzoi",
        "outputId": "fc077800-ff18-4a57-8339-8c06e125c397"
      },
      "source": [
        "algo_i = KNNWithMeans(k=10, sim_options={ 'user_based': False})\n",
        "\n",
        "algo_i.fit(trainset)"
      ],
      "execution_count": null,
      "outputs": [
        {
          "output_type": "stream",
          "text": [
            "Computing the msd similarity matrix...\n",
            "Done computing similarity matrix.\n"
          ],
          "name": "stdout"
        },
        {
          "output_type": "execute_result",
          "data": {
            "text/plain": [
              "<surprise.prediction_algorithms.knns.KNNWithMeans at 0x7f6a072360b8>"
            ]
          },
          "metadata": {
            "tags": []
          },
          "execution_count": 58
        }
      ]
    },
    {
      "cell_type": "code",
      "metadata": {
        "colab": {
          "base_uri": "https://localhost:8080/"
        },
        "id": "-1DJi7K2Tz4w",
        "outputId": "d05a7ea3-645b-46e3-82fb-92d1d94c5d8d"
      },
      "source": [
        "test_pred_i=algo_i.test(testset)\n",
        "print(accuracy.rmse(test_pred_i))"
      ],
      "execution_count": null,
      "outputs": [
        {
          "output_type": "stream",
          "text": [
            "RMSE: 3.0548\n",
            "3.0548206216965754\n"
          ],
          "name": "stdout"
        }
      ]
    },
    {
      "cell_type": "markdown",
      "metadata": {
        "id": "VghIAWHCAb4m"
      },
      "source": [
        "RMSE score on test data is 3.05"
      ]
    },
    {
      "cell_type": "code",
      "metadata": {
        "colab": {
          "base_uri": "https://localhost:8080/"
        },
        "id": "DoiW6O0kT0Fe",
        "outputId": "31413d86-450b-4a6f-e710-43cfcc48f685"
      },
      "source": [
        "uid = \"Amazon Customer\"  # raw user id (as in the ratings file). They are **strings**!\n",
        "iid = \"Mi Xiaomi Mi Max (Gold, 32GB)\"  # raw item id (as in the ratings file). They are **strings**!\n",
        "\n",
        "# get a prediction for specific users and items.\n",
        "pred_ic = algo_i.predict(uid, iid, r_ui=0.0, verbose=True)"
      ],
      "execution_count": null,
      "outputs": [
        {
          "output_type": "stream",
          "text": [
            "user: Amazon Customer item: Mi Xiaomi Mi Max (Gold, 32GB) r_ui = 0.00   est = 7.20   {'actual_k': 10, 'was_impossible': False}\n"
          ],
          "name": "stdout"
        }
      ]
    },
    {
      "cell_type": "markdown",
      "metadata": {
        "id": "EV9OQvtqAkKw"
      },
      "source": [
        "**Top 10 item based recommendations of mobile to an user say Amazon Customer**"
      ]
    },
    {
      "cell_type": "code",
      "metadata": {
        "colab": {
          "base_uri": "https://localhost:8080/",
          "height": 357
        },
        "id": "Iake2Jj2YoIP",
        "outputId": "23ff33ec-8d69-4e2e-a4a0-40aa57cb254b"
      },
      "source": [
        "pred_ic = pd.DataFrame(test_pred_i)\n",
        "pred_ic[pred_ic['uid'] == \"Amazon Customer\"][['iid', 'r_ui','est']].sort_values(by = 'r_ui',ascending = False).head(10)"
      ],
      "execution_count": null,
      "outputs": [
        {
          "output_type": "execute_result",
          "data": {
            "text/html": [
              "<div>\n",
              "<style scoped>\n",
              "    .dataframe tbody tr th:only-of-type {\n",
              "        vertical-align: middle;\n",
              "    }\n",
              "\n",
              "    .dataframe tbody tr th {\n",
              "        vertical-align: top;\n",
              "    }\n",
              "\n",
              "    .dataframe thead th {\n",
              "        text-align: right;\n",
              "    }\n",
              "</style>\n",
              "<table border=\"1\" class=\"dataframe\">\n",
              "  <thead>\n",
              "    <tr style=\"text-align: right;\">\n",
              "      <th></th>\n",
              "      <th>iid</th>\n",
              "      <th>r_ui</th>\n",
              "      <th>est</th>\n",
              "    </tr>\n",
              "  </thead>\n",
              "  <tbody>\n",
              "    <tr>\n",
              "      <th>0</th>\n",
              "      <td>LG Electronics G3 UK SIM-Free Smartphone - Gol...</td>\n",
              "      <td>10.0</td>\n",
              "      <td>10.000000</td>\n",
              "    </tr>\n",
              "    <tr>\n",
              "      <th>14365</th>\n",
              "      <td>Nokia Microsoft Lumia 640 Windows 8.1 Phone, 4...</td>\n",
              "      <td>10.0</td>\n",
              "      <td>8.400000</td>\n",
              "    </tr>\n",
              "    <tr>\n",
              "      <th>14339</th>\n",
              "      <td>Samsung Galaxy J7 SM-J700F (White) - Scheduled...</td>\n",
              "      <td>10.0</td>\n",
              "      <td>5.600000</td>\n",
              "    </tr>\n",
              "    <tr>\n",
              "      <th>14346</th>\n",
              "      <td>Asus Zenfone Max ZC550KL-6A076IN (Black, 3GB, ...</td>\n",
              "      <td>10.0</td>\n",
              "      <td>7.200000</td>\n",
              "    </tr>\n",
              "    <tr>\n",
              "      <th>14351</th>\n",
              "      <td>Asus Zenfone 2 Laser 5.5 ZE550KL-1B122IN (White)</td>\n",
              "      <td>10.0</td>\n",
              "      <td>6.000000</td>\n",
              "    </tr>\n",
              "    <tr>\n",
              "      <th>14360</th>\n",
              "      <td>Apple iPhone 6 16GB Factory Unlocked GSM 4G LT...</td>\n",
              "      <td>10.0</td>\n",
              "      <td>6.400000</td>\n",
              "    </tr>\n",
              "    <tr>\n",
              "      <th>14363</th>\n",
              "      <td>Gionee F103 (White, 3GB RAM, 16GB)</td>\n",
              "      <td>10.0</td>\n",
              "      <td>10.000000</td>\n",
              "    </tr>\n",
              "    <tr>\n",
              "      <th>14364</th>\n",
              "      <td>Samsung Galaxy S6 SM-G920F Factory Unlocked Ce...</td>\n",
              "      <td>10.0</td>\n",
              "      <td>7.544439</td>\n",
              "    </tr>\n",
              "    <tr>\n",
              "      <th>14367</th>\n",
              "      <td>Samsung Galaxy S III / SGH-i747 16GB GSM Unloc...</td>\n",
              "      <td>10.0</td>\n",
              "      <td>8.666667</td>\n",
              "    </tr>\n",
              "    <tr>\n",
              "      <th>14336</th>\n",
              "      <td>Samsung GALAXY S7 EDGE G935FD DUAL SIM INTERNA...</td>\n",
              "      <td>10.0</td>\n",
              "      <td>7.000000</td>\n",
              "    </tr>\n",
              "  </tbody>\n",
              "</table>\n",
              "</div>"
            ],
            "text/plain": [
              "                                                     iid  r_ui        est\n",
              "0      LG Electronics G3 UK SIM-Free Smartphone - Gol...  10.0  10.000000\n",
              "14365  Nokia Microsoft Lumia 640 Windows 8.1 Phone, 4...  10.0   8.400000\n",
              "14339  Samsung Galaxy J7 SM-J700F (White) - Scheduled...  10.0   5.600000\n",
              "14346  Asus Zenfone Max ZC550KL-6A076IN (Black, 3GB, ...  10.0   7.200000\n",
              "14351   Asus Zenfone 2 Laser 5.5 ZE550KL-1B122IN (White)  10.0   6.000000\n",
              "14360  Apple iPhone 6 16GB Factory Unlocked GSM 4G LT...  10.0   6.400000\n",
              "14363                 Gionee F103 (White, 3GB RAM, 16GB)  10.0  10.000000\n",
              "14364  Samsung Galaxy S6 SM-G920F Factory Unlocked Ce...  10.0   7.544439\n",
              "14367  Samsung Galaxy S III / SGH-i747 16GB GSM Unloc...  10.0   8.666667\n",
              "14336  Samsung GALAXY S7 EDGE G935FD DUAL SIM INTERNA...  10.0   7.000000"
            ]
          },
          "metadata": {
            "tags": []
          },
          "execution_count": 82
        }
      ]
    },
    {
      "cell_type": "markdown",
      "metadata": {
        "id": "UaASWP5kBD_A"
      },
      "source": [
        "#K-fold cross validation"
      ]
    },
    {
      "cell_type": "markdown",
      "metadata": {
        "id": "LFKXv6UdBc_j"
      },
      "source": [
        "**Let's apply K-fold cross validation on Item based collaborative filtering**"
      ]
    },
    {
      "cell_type": "code",
      "metadata": {
        "colab": {
          "base_uri": "https://localhost:8080/"
        },
        "id": "gSRcEKxjY9KF",
        "outputId": "bf64dc10-8073-42bd-f51a-385c55bb11eb"
      },
      "source": [
        "from surprise.model_selection import KFold\n",
        "kf = KFold(n_splits=5)\n",
        "\n",
        "for trainset, testset in kf.split(data):\n",
        "    #algo_i = KNNWithMeans(k=10, sim_options={ 'user_based': False}) # already ran above\n",
        "    # train and test algorithm.\n",
        "    algo_i.fit(trainset)\n",
        "    predictions = algo_i.test(testset)\n",
        "\n",
        "    # Compute and print Root Mean Squared Error\n",
        "    accuracy.rmse(predictions, verbose=True)"
      ],
      "execution_count": null,
      "outputs": [
        {
          "output_type": "stream",
          "text": [
            "Computing the msd similarity matrix...\n",
            "Done computing similarity matrix.\n",
            "RMSE: 2.9986\n",
            "Computing the msd similarity matrix...\n",
            "Done computing similarity matrix.\n",
            "RMSE: 3.0451\n",
            "Computing the msd similarity matrix...\n",
            "Done computing similarity matrix.\n",
            "RMSE: 3.0530\n",
            "Computing the msd similarity matrix...\n",
            "Done computing similarity matrix.\n",
            "RMSE: 3.0210\n",
            "Computing the msd similarity matrix...\n",
            "Done computing similarity matrix.\n",
            "RMSE: 3.0275\n"
          ],
          "name": "stdout"
        }
      ]
    },
    {
      "cell_type": "code",
      "metadata": {
        "colab": {
          "base_uri": "https://localhost:8080/"
        },
        "id": "hJGN7GvACd6z",
        "outputId": "afb81b1f-f856-47a5-e20a-e5360801dc39"
      },
      "source": [
        "mean = (2.9986+3.0451+3.0530+3.0210+3.0275)/5\n",
        "print(mean)"
      ],
      "execution_count": null,
      "outputs": [
        {
          "output_type": "stream",
          "text": [
            "3.0290399999999997\n"
          ],
          "name": "stdout"
        }
      ]
    },
    {
      "cell_type": "markdown",
      "metadata": {
        "id": "k0YPfHAQCGUm"
      },
      "source": [
        "*Mean RMSE of K-fold cross validation of Item based collaborative filtering  is 3.0290.*  \n",
        "*Best and worst model among the five gave RMSE score of 2.99 and 3.05.*  \n",
        "*K-fold improved the score slightly with very small deviation in scores which give more confidence in production environment.*"
      ]
    },
    {
      "cell_type": "markdown",
      "metadata": {
        "id": "7GuV9vQ9EBM7"
      },
      "source": [
        "#Recommendations:  \n",
        "**Popularity based recommendation should be used when no purchasing/product history of an user is available because some recommendation is better than no recommendation.**  \n",
        "**As we got to know about user's likes or dislikes about a product, Collaborative filtering based recommendation should be used, it could be mix of user based and item based recommendation.**  \n",
        "**In order to improve recommendations further, Apriori based recommendation i.e. Market Basket Analysis can be used.**"
      ]
    },
    {
      "cell_type": "markdown",
      "metadata": {
        "id": "rA7QrsRrH5W-"
      },
      "source": [
        "#Thank-you"
      ]
    }
  ]
}